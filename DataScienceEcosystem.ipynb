{
 "cells": [
  {
   "cell_type": "markdown",
   "id": "96f136d5-f961-49c0-841e-3fba6029cf2b",
   "metadata": {},
   "source": [
    "# Data Science Tools and Ecosystem"
   ]
  },
  {
   "cell_type": "markdown",
   "id": "a58b6454-10d5-4ece-bdc5-b4bff0c26789",
   "metadata": {},
   "source": [
    "In this notebook, Data Science Tools and Ecosystem are summarized."
   ]
  },
  {
   "cell_type": "markdown",
   "id": "51ee10c4-7fbe-4b44-b586-3c389c268345",
   "metadata": {},
   "source": [
    "### Objective GitHub"
   ]
  },
  {
   "cell_type": "markdown",
   "id": "d7628693-d0ec-4006-bf6c-0f1a99c05303",
   "metadata": {},
   "source": [
    "* Create a Jupyter Notebook\n",
    "* Insert code and markdown cells\n",
    "* Share your notebook through GitHub"
   ]
  },
  {
   "cell_type": "markdown",
   "id": "d2962cfc-df97-484f-8fe5-006a773f1461",
   "metadata": {},
   "source": [
    "Some of the popular languages that Data Scientists use are:\n",
    "1. R\n",
    "1. Python\n",
    "1. Scala"
   ]
  },
  {
   "cell_type": "markdown",
   "id": "a62bf866-23cd-4734-8b80-eae8469f89ca",
   "metadata": {},
   "source": [
    "Some of the commonly used libraries used by Data Scientists include:\n",
    "1. Pandas\n",
    "1. NumPy\n",
    "1. SciPy"
   ]
  },
  {
   "cell_type": "markdown",
   "id": "3b13b483-2304-41c0-8e1b-d1ac5a2f5bab",
   "metadata": {},
   "source": [
    "| Data Science Tools |\n",
    "|------|\n",
    "| Jupyter Notebooks |\n",
    "| JupyterLab |\n",
    "| Google Colaboratory  |"
   ]
  },
  {
   "cell_type": "markdown",
   "id": "7031b58e-eae4-4906-b2ba-68c7678f295f",
   "metadata": {},
   "source": [
    "### Below are a few examples of evaluating arithmetic expressions in Python"
   ]
  },
  {
   "cell_type": "markdown",
   "id": "938e535e-ac42-4d7c-9c72-fe74b83efbb1",
   "metadata": {},
   "source": [
    "This a simple arithmetic expression to mutiply then add integers"
   ]
  },
  {
   "cell_type": "code",
   "execution_count": 2,
   "id": "8a285330-d337-46fa-b201-78790c4fd73d",
   "metadata": {},
   "outputs": [
    {
     "data": {
      "text/plain": [
       "17"
      ]
     },
     "execution_count": 2,
     "metadata": {},
     "output_type": "execute_result"
    }
   ],
   "source": [
    "(3*4)+5"
   ]
  },
  {
   "cell_type": "markdown",
   "id": "3922e318-729f-40dc-baa6-5f2a5e66e578",
   "metadata": {},
   "source": [
    "This will convert 200 minutes to hours by diving by 60"
   ]
  },
  {
   "cell_type": "code",
   "execution_count": 3,
   "id": "33fd1d3d-5b43-4c66-930e-d887a9dfbeb0",
   "metadata": {},
   "outputs": [
    {
     "data": {
      "text/plain": [
       "3.3333333333333335"
      ]
     },
     "execution_count": 3,
     "metadata": {},
     "output_type": "execute_result"
    }
   ],
   "source": [
    "200 / 60"
   ]
  },
  {
   "cell_type": "markdown",
   "id": "0b37ef58-62eb-41a3-8c1c-73b6b27c604d",
   "metadata": {},
   "source": [
    "## Author"
   ]
  },
  {
   "cell_type": "markdown",
   "id": "2a4d7f31-5206-415d-992d-8c6a41fff336",
   "metadata": {},
   "source": [
    "Yukihiro Fujita"
   ]
  }
 ],
 "metadata": {
  "kernelspec": {
   "display_name": "Python 3 (ipykernel)",
   "language": "python",
   "name": "python3"
  },
  "language_info": {
   "codemirror_mode": {
    "name": "ipython",
    "version": 3
   },
   "file_extension": ".py",
   "mimetype": "text/x-python",
   "name": "python",
   "nbconvert_exporter": "python",
   "pygments_lexer": "ipython3",
   "version": "3.8.16"
  }
 },
 "nbformat": 4,
 "nbformat_minor": 5
}
